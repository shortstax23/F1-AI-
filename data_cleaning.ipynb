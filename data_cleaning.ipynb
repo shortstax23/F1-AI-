{
 "cells": [
  {
   "cell_type": "code",
   "execution_count": 6,
   "metadata": {},
   "outputs": [],
   "source": [
    "import pandas as pd\n",
    "import numpy as np\n",
    "import os\n",
    "import re \n",
    "import glob"
   ]
  },
  {
   "cell_type": "code",
   "execution_count": 2,
   "metadata": {},
   "outputs": [],
   "source": [
    "def process_filename_info(df, filename):\n",
    "    # Extract the base name (in case a full path is passed)\n",
    "    base = os.path.basename(filename)\n",
    "    \n",
    "    # Regex to get race name and year\n",
    "    match = re.match(r\"f1_data_(.+)_([0-9]{4})\\.csv\", base)\n",
    "    \n",
    "    if match:\n",
    "        race_name = match.group(1).replace(\"_\", \" \")  # Turn underscores into spaces\n",
    "        year = int(match.group(2))\n",
    "        \n",
    "        df[\"RaceName\"] = race_name\n",
    "        df[\"Year\"] = year\n",
    "    else:\n",
    "        print(\"⚠️ Filename doesn't match expected pattern.\")\n",
    "    \n",
    "    return df"
   ]
  },
  {
   "cell_type": "code",
   "execution_count": 4,
   "metadata": {},
   "outputs": [],
   "source": [
    "def process_race_data(csv_path, output_path):\n",
    "    df = pd.read_csv(csv_path)\n",
    "\n",
    "    process_filename_info(df, csv_path)\n",
    "    \n",
    "    # Drop rows without race time\n",
    "    df = df.dropna(subset=[\"TotalRaceTime\"])\n",
    "\n",
    "    # Convert all relevant time columns to seconds\n",
    "    time_cols = [\n",
    "        \"LapTime_FP1\", \"LapTime_FP2\", \"LapTime_FP3\",\n",
    "        \"AvgLapTime_LongestStint_FP1\", \"AvgLapTime_LongestStint_FP2\", \"AvgLapTime_LongestStint_FP3\",\n",
    "        \"Delta_FirstLastLap_FP1\", \"Delta_FirstLastLap_FP2\", \"Delta_FirstLastLap_FP3\",\n",
    "        \"Q1_FastestLap\", \"Q2_FastestLap\", \"Q3_FastestLap\"\n",
    "    ]\n",
    "    for col in time_cols:\n",
    "        df[col] = pd.to_timedelta(df[col]).dt.total_seconds()\n",
    "\n",
    "    # Fastest laps\n",
    "    df[\"FastestPracticeTime\"] = df[[\"LapTime_FP1\", \"LapTime_FP2\", \"LapTime_FP3\"]].min(axis=1)\n",
    "    df[\"FastestQualifyingTime\"] = df[[\"Q1_FastestLap\", \"Q2_FastestLap\", \"Q3_FastestLap\"]].min(axis=1)\n",
    "\n",
    "    # Map compounds to categorical\n",
    "    compounds = {\"SOFT\": 0, \"MEDIUM\": 1, \"HARD\": 2, \"INTERMEDIATE\": 3, \"WET\": 4}\n",
    "\n",
    "    # Find compound of fastest FP lap\n",
    "    conditions = [\n",
    "        df[\"LapTime_FP1\"] == df[\"FastestPracticeTime\"],\n",
    "        df[\"LapTime_FP2\"] == df[\"FastestPracticeTime\"],\n",
    "        df[\"LapTime_FP3\"] == df[\"FastestPracticeTime\"]\n",
    "    ]\n",
    "    choices = [df[\"Compound_FP1\"], df[\"Compound_FP2\"], df[\"Compound_FP3\"]]\n",
    "    df[\"FastestPracticeCompound\"] = np.select(conditions, choices, default=np.nan)\n",
    "    \n",
    "    # Map compounds\n",
    "    compound_cols = [\"FastestPracticeCompound\", \"LongestStintCompound_FP1\", \"LongestStintCompound_FP2\", \"LongestStintCompound_FP3\"]\n",
    "    for col in compound_cols:\n",
    "        df[col] = df[col].map(compounds)\n",
    "\n",
    "    # Normalize speed vs. session slowest\n",
    "    for col in [\"SpeedST_FP1\", \"SpeedST_FP2\", \"SpeedST_FP3\", \"Q1_TopSpeedST\", \"Q2_TopSpeedST\", \"Q3_TopSpeedST\"]:\n",
    "        df[col] = df[col] - df[col].min()\n",
    "\n",
    "    # Normalize race time\n",
    "    df[\"TotalRaceTime\"] = pd.to_timedelta(df[\"TotalRaceTime\"]).dt.total_seconds()\n",
    "    totalTimeFirst = df[\"TotalRaceTime\"].max()\n",
    "    df[\"TotalRaceTime\"] = df[\"TotalRaceTime\"].fillna(totalTimeFirst)\n",
    "    df.loc[df[\"TotalRaceTime\"] != totalTimeFirst, \"TotalRaceTime\"] += totalTimeFirst\n",
    "\n",
    "    # Append to combined CSV (create it if doesn't exist)\n",
    "    if not os.path.exists(output_path):\n",
    "        df.to_csv(output_path, index=False)\n",
    "    else:\n",
    "        df.to_csv(output_path, mode='a', index=False, header=False)  # Append without writing header again\n",
    "\n",
    "    print(f\"Processed and saved: {csv_path}\")\n"
   ]
  },
  {
   "cell_type": "code",
   "execution_count": 7,
   "metadata": {},
   "outputs": [
    {
     "name": "stdout",
     "output_type": "stream",
     "text": [
      "Processed and saved: ./data/f1_data_Bahrain_Grand_Prix_2025.csv\n",
      "Processed and saved: ./data/f1_data_Australian_Grand_Prix_2025.csv\n",
      "Processed and saved: ./data/f1_data_Japanese_Grand_Prix_2025.csv\n"
     ]
    }
   ],
   "source": [
    "# Folder path (relative to script location)\n",
    "data_folder = './data'\n",
    "\n",
    "# Get all CSV files in the folder\n",
    "csv_files = glob.glob(os.path.join(data_folder, '*.csv'))\n",
    "\n",
    "# Loop through each CSV\n",
    "for csv_file in csv_files:\n",
    "    process_race_data(csv_file, \"data/f1_data_combined.csv\")"
   ]
  }
 ],
 "metadata": {
  "kernelspec": {
   "display_name": "Python 3",
   "language": "python",
   "name": "python3"
  },
  "language_info": {
   "codemirror_mode": {
    "name": "ipython",
    "version": 3
   },
   "file_extension": ".py",
   "mimetype": "text/x-python",
   "name": "python",
   "nbconvert_exporter": "python",
   "pygments_lexer": "ipython3",
   "version": "3.11.11"
  }
 },
 "nbformat": 4,
 "nbformat_minor": 2
}
