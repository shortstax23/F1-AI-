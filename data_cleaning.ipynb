{
 "cells": [
  {
   "cell_type": "code",
   "execution_count": 1,
   "metadata": {},
   "outputs": [],
   "source": [
    "import pandas as pd\n",
    "import numpy as np\n",
    "import os\n",
    "import re \n",
    "import glob"
   ]
  },
  {
   "cell_type": "code",
   "execution_count": 2,
   "metadata": {},
   "outputs": [],
   "source": [
    "def process_filename_info(df, filename):\n",
    "    # Extract the base name (in case a full path is passed)\n",
    "    base = os.path.basename(filename)\n",
    "    \n",
    "    # Regex to get race name and year\n",
    "    match = re.match(r\"f1_data_(.+)_([0-9]{4})\\.csv\", base)\n",
    "    \n",
    "    if match:\n",
    "        race_name = match.group(1).replace(\"_\", \" \")  # Turn underscores into spaces\n",
    "        year = int(match.group(2))\n",
    "        \n",
    "        df[\"RaceName\"] = race_name\n",
    "        df[\"Year\"] = year\n",
    "    else:\n",
    "        print(\"⚠️ Filename doesn't match expected pattern.\")\n",
    "    \n",
    "    return df"
   ]
  },
  {
   "cell_type": "code",
   "execution_count": 3,
   "metadata": {},
   "outputs": [],
   "source": [
    "import pandas as pd\n",
    "\n",
    "def impute_missing_practice_sessions(df):\n",
    "    sessions = [\"FP1\", \"FP2\", \"FP3\"]\n",
    "    penalty_seconds = 0.5\n",
    "\n",
    "    # Explicitly initialize imputation flags\n",
    "    for session in sessions:\n",
    "        df[f\"IsImputed_{session}\"] = False\n",
    "\n",
    "    for session in sessions:\n",
    "        lap_col = f\"LapTime_{session}\"\n",
    "        compound_col = f\"LapCompound_{session}\"\n",
    "\n",
    "        missing_drivers = df[df[lap_col].isna()]\n",
    "\n",
    "        for idx, driver_row in missing_drivers.iterrows():\n",
    "            team, race, year, driver = (driver_row[\"TeamName\"], \n",
    "                                        driver_row[\"RaceName\"], \n",
    "                                        driver_row[\"Year\"], \n",
    "                                        driver_row[\"Driver\"])\n",
    "\n",
    "            # Teammate's data for the session\n",
    "            teammate = df[\n",
    "                (df[\"TeamName\"] == team) &\n",
    "                (df[\"RaceName\"] == race) &\n",
    "                (df[\"Year\"] == year) &\n",
    "                (df[\"Driver\"] != driver) &\n",
    "                (~df[lap_col].isna())\n",
    "            ]\n",
    "\n",
    "            if not teammate.empty:\n",
    "                # Use teammate's entire session data\n",
    "                teammate_row = teammate.iloc[0]\n",
    "                session_cols = [col for col in df.columns if f\"_{session}\" in col]\n",
    "                df.loc[idx, session_cols] = teammate_row[session_cols].values\n",
    "                df.at[idx, lap_col] += penalty_seconds\n",
    "\n",
    "            else:\n",
    "                # Impute LapTime as average\n",
    "                avg_lap_time = df[\n",
    "                    (df[\"RaceName\"] == race) &\n",
    "                    (df[\"Year\"] == year) &\n",
    "                    (~df[lap_col].isna())\n",
    "                ][lap_col].mean()\n",
    "\n",
    "                if pd.isna(avg_lap_time):\n",
    "                    print(f\"⚠️ Cannot impute average LapTime for {driver} in {session} at {race} ({year}).\")\n",
    "                    continue\n",
    "\n",
    "                df.at[idx, lap_col] = avg_lap_time + penalty_seconds\n",
    "\n",
    "                # Weather columns imputation as session average\n",
    "                weather_cols = [col for col in df.columns if f\"Weather_{session}\" in col]\n",
    "                for weather_col in weather_cols:\n",
    "                    avg_weather = df[\n",
    "                        (df[\"RaceName\"] == race) &\n",
    "                        (df[\"Year\"] == year) &\n",
    "                        (~df[weather_col].isna())\n",
    "                    ][weather_col].mean()\n",
    "\n",
    "                    df.at[idx, weather_col] = avg_weather\n",
    "\n",
    "                # LapCompound set explicitly to \"SOFT\"\n",
    "                if compound_col in df.columns:\n",
    "                    df.at[idx, compound_col] = \"SOFT\"\n",
    "\n",
    "                # Other session columns (like sectors) are set to NaN explicitly\n",
    "                other_session_cols = [\n",
    "                    col for col in df.columns if f\"_{session}\" in col \n",
    "                    and col not in [lap_col, compound_col] + weather_cols\n",
    "                ]\n",
    "                df.loc[idx, other_session_cols] = pd.NA\n",
    "\n",
    "            # Explicitly mark as imputed\n",
    "            df.at[idx, f\"IsImputed_{session}\"] = True\n",
    "\n",
    "            # Update FastestPracticeTime\n",
    "            df.at[idx, \"FastestPracticeTime\"] = df.loc[\n",
    "                idx, [\"LapTime_FP1\", \"LapTime_FP2\", \"LapTime_FP3\"]\n",
    "            ].min()\n",
    "\n",
    "    return df\n"
   ]
  },
  {
   "cell_type": "code",
   "execution_count": null,
   "metadata": {},
   "outputs": [],
   "source": [
    "def process_race_data(csv_path, output_path):\n",
    "    df = pd.read_csv(csv_path)\n",
    "\n",
    "    process_filename_info(df, csv_path)\n",
    "    \n",
    "    # For now keep also Nan in TotalRaceTime, as might use dataset to predict qualifying times\n",
    "    if 'TotalRaceTime' not in  df.columns:\n",
    "        print(f\"⚠️ Column 'TotalRaceTime' missing in {csv_path}. Skipping file.\")\n",
    "        return  # skip further processing for this file\n",
    "\n",
    "    # Convert all relevant time columns to seconds\n",
    "    time_cols = [\n",
    "        \"LapTime_FP1\", \"LapTime_FP2\", \"LapTime_FP3\",\n",
    "        \"AvgLapTime_LongestStint_FP1\", \"AvgLapTime_LongestStint_FP2\", \"AvgLapTime_LongestStint_FP3\",\n",
    "        \"Delta_FirstLastLap_FP1\", \"Delta_FirstLastLap_FP2\", \"Delta_FirstLastLap_FP3\",\n",
    "        \"Q1_FastestLap\", \"Q2_FastestLap\", \"Q3_FastestLap\"\n",
    "    ]\n",
    "    for col in time_cols:\n",
    "        df[col] = pd.to_timedelta(df[col]).dt.total_seconds()\n",
    "\n",
    "    # Fastest laps\n",
    "    df[\"FastestPracticeTime\"] = df[[\"LapTime_FP1\", \"LapTime_FP2\", \"LapTime_FP3\"]].min(axis=1)\n",
    "    df[\"FastestQualifyingTime\"] = df[[\"Q1_FastestLap\", \"Q2_FastestLap\", \"Q3_FastestLap\"]].min(axis=1)\n",
    "\n",
    "    # Map compounds to categorical\n",
    "    compounds = {\"SOFT\": 0, \"MEDIUM\": 1, \"HARD\": 2, \"INTERMEDIATE\": 3, \"WET\": 4}\n",
    "\n",
    "    # Find compound of fastest FP lap\n",
    "    conditions = [\n",
    "        df[\"LapTime_FP1\"] == df[\"FastestPracticeTime\"],\n",
    "        df[\"LapTime_FP2\"] == df[\"FastestPracticeTime\"],\n",
    "        df[\"LapTime_FP3\"] == df[\"FastestPracticeTime\"]\n",
    "    ]\n",
    "    choices = [df[\"Compound_FP1\"], df[\"Compound_FP2\"], df[\"Compound_FP3\"]]\n",
    "    df[\"FastestPracticeCompound\"] = np.select(conditions, choices, default=np.nan)\n",
    "    \n",
    "    # Map compounds\n",
    "    compound_cols = [\"FastestPracticeCompound\", \"LongestStintCompound_FP1\", \"LongestStintCompound_FP2\", \"LongestStintCompound_FP3\",\n",
    "                    \"Compound_FP1\", \"Compound_FP2\", \"Compound_FP3\",\n",
    "                     ]\n",
    "    for col in compound_cols:\n",
    "        df[col] = df[col].map(compounds)\n",
    "\n",
    "\n",
    "    # Normalize all speed trap data vs. session slowest\n",
    "    speed_cols = [\n",
    "        \"SpeedST_FP1\", \"SpeedFL_FP1\", \"SpeedI1_FP1\", \"SpeedI2_FP1\",\n",
    "        \"SpeedST_FP2\", \"SpeedFL_FP2\", \"SpeedI1_FP2\", \"SpeedI2_FP2\",\n",
    "        \"SpeedST_FP3\", \"SpeedFL_FP3\", \"SpeedI1_FP3\", \"SpeedI2_FP3\",\n",
    "        \"Q1_TopSpeedST\", \"Q2_TopSpeedST\", \"Q3_TopSpeedST\"\n",
    "    ]\n",
    "\n",
    "    for col in speed_cols:\n",
    "        df[col] = df[col] - df[col].min()\n",
    "\n",
    "\n",
    "    # Normalize race time\n",
    "    df[\"TotalRaceTime\"] = pd.to_timedelta(df[\"TotalRaceTime\"]).dt.total_seconds()\n",
    "    totalTimeFirst = df[\"TotalRaceTime\"].max()\n",
    "    df[\"TotalRaceTime\"] = df[\"TotalRaceTime\"].fillna(totalTimeFirst)\n",
    "    df.loc[df[\"TotalRaceTime\"] != totalTimeFirst, \"TotalRaceTime\"] += totalTimeFirst\n",
    "\n",
    "    df = impute_missing_practice_sessions(df)\n",
    "\n",
    "    # Append to combined CSV (create it if doesn't exist)\n",
    "    if not os.path.exists(output_path):\n",
    "        df.to_csv(output_path, index=False)\n",
    "    else:\n",
    "        df.to_csv(output_path, mode='a', index=False, header=False)  # Append without writing header again\n",
    "\n",
    "    print(f\"Processed and saved: {csv_path}\")\n"
   ]
  },
  {
   "cell_type": "code",
   "execution_count": 5,
   "metadata": {},
   "outputs": [
    {
     "name": "stdout",
     "output_type": "stream",
     "text": [
      "Processed and saved: ./data/f1_data_Saudi_Arabian_Grand_Prix_2021.csv\n",
      "Processed and saved: ./data/f1_data_Canadian_Grand_Prix_2023.csv\n",
      "Processed and saved: ./data/f1_data_Monaco_Grand_Prix_2021.csv\n",
      "Processed and saved: ./data/f1_data_Canadian_Grand_Prix_2022.csv\n",
      "Processed and saved: ./data/f1_data_Abu_Dhabi_Grand_Prix_2018.csv\n"
     ]
    },
    {
     "name": "stderr",
     "output_type": "stream",
     "text": [
      "/var/folders/ty/jl1vm4217zx6vktvp7bd66nm0000gn/T/ipykernel_70772/4229074061.py:73: FutureWarning: Setting an item of incompatible dtype is deprecated and will raise an error in a future version of pandas. Value 'nan' has dtype incompatible with bool, please explicitly cast to a compatible dtype first.\n",
      "  df.loc[idx, other_session_cols] = pd.NA\n",
      "/var/folders/ty/jl1vm4217zx6vktvp7bd66nm0000gn/T/ipykernel_70772/4229074061.py:73: FutureWarning: Setting an item of incompatible dtype is deprecated and will raise an error in a future version of pandas. Value 'nan' has dtype incompatible with bool, please explicitly cast to a compatible dtype first.\n",
      "  df.loc[idx, other_session_cols] = pd.NA\n",
      "/var/folders/ty/jl1vm4217zx6vktvp7bd66nm0000gn/T/ipykernel_70772/4229074061.py:73: FutureWarning: Setting an item of incompatible dtype is deprecated and will raise an error in a future version of pandas. Value 'nan' has dtype incompatible with bool, please explicitly cast to a compatible dtype first.\n",
      "  df.loc[idx, other_session_cols] = pd.NA\n",
      "/var/folders/ty/jl1vm4217zx6vktvp7bd66nm0000gn/T/ipykernel_70772/4229074061.py:73: FutureWarning: Setting an item of incompatible dtype is deprecated and will raise an error in a future version of pandas. Value 'nan' has dtype incompatible with bool, please explicitly cast to a compatible dtype first.\n",
      "  df.loc[idx, other_session_cols] = pd.NA\n",
      "/var/folders/ty/jl1vm4217zx6vktvp7bd66nm0000gn/T/ipykernel_70772/4229074061.py:73: FutureWarning: Setting an item of incompatible dtype is deprecated and will raise an error in a future version of pandas. Value 'nan' has dtype incompatible with bool, please explicitly cast to a compatible dtype first.\n",
      "  df.loc[idx, other_session_cols] = pd.NA\n"
     ]
    },
    {
     "name": "stdout",
     "output_type": "stream",
     "text": [
      "Processed and saved: ./data/f1_data_Abu_Dhabi_Grand_Prix_2024.csv\n",
      "Processed and saved: ./data/f1_data_Austria_Grand_Prix_2020.csv\n",
      "Processed and saved: ./data/f1_data_Saudi_Arabian_Grand_Prix_2022.csv\n",
      "Processed and saved: ./data/f1_data_Italian_Grand_Prix_2019.csv\n",
      "Processed and saved: ./data/f1_data_British_Grand_Prix_2019.csv\n",
      "Processed and saved: ./data/f1_data_Monaco_Grand_Prix_2022.csv\n",
      "Processed and saved: ./data/f1_data_Bahrain_Grand_Prix_2018.csv\n",
      "Processed and saved: ./data/f1_data_Bahrain_Grand_Prix_2024.csv\n"
     ]
    },
    {
     "name": "stderr",
     "output_type": "stream",
     "text": [
      "/var/folders/ty/jl1vm4217zx6vktvp7bd66nm0000gn/T/ipykernel_70772/4229074061.py:73: FutureWarning: Setting an item of incompatible dtype is deprecated and will raise an error in a future version of pandas. Value 'nan' has dtype incompatible with bool, please explicitly cast to a compatible dtype first.\n",
      "  df.loc[idx, other_session_cols] = pd.NA\n",
      "/var/folders/ty/jl1vm4217zx6vktvp7bd66nm0000gn/T/ipykernel_70772/4229074061.py:73: FutureWarning: Setting an item of incompatible dtype is deprecated and will raise an error in a future version of pandas. Value 'nan' has dtype incompatible with bool, please explicitly cast to a compatible dtype first.\n",
      "  df.loc[idx, other_session_cols] = pd.NA\n",
      "/var/folders/ty/jl1vm4217zx6vktvp7bd66nm0000gn/T/ipykernel_70772/4229074061.py:73: FutureWarning: Setting an item of incompatible dtype is deprecated and will raise an error in a future version of pandas. Value 'nan' has dtype incompatible with bool, please explicitly cast to a compatible dtype first.\n",
      "  df.loc[idx, other_session_cols] = pd.NA\n",
      "/var/folders/ty/jl1vm4217zx6vktvp7bd66nm0000gn/T/ipykernel_70772/4229074061.py:73: FutureWarning: Setting an item of incompatible dtype is deprecated and will raise an error in a future version of pandas. Value 'nan' has dtype incompatible with bool, please explicitly cast to a compatible dtype first.\n",
      "  df.loc[idx, other_session_cols] = pd.NA\n",
      "/var/folders/ty/jl1vm4217zx6vktvp7bd66nm0000gn/T/ipykernel_70772/4229074061.py:73: FutureWarning: Setting an item of incompatible dtype is deprecated and will raise an error in a future version of pandas. Value 'nan' has dtype incompatible with bool, please explicitly cast to a compatible dtype first.\n",
      "  df.loc[idx, other_session_cols] = pd.NA\n",
      "/var/folders/ty/jl1vm4217zx6vktvp7bd66nm0000gn/T/ipykernel_70772/4229074061.py:73: FutureWarning: Setting an item of incompatible dtype is deprecated and will raise an error in a future version of pandas. Value 'nan' has dtype incompatible with bool, please explicitly cast to a compatible dtype first.\n",
      "  df.loc[idx, other_session_cols] = pd.NA\n"
     ]
    },
    {
     "name": "stdout",
     "output_type": "stream",
     "text": [
      "Processed and saved: ./data/f1_data_Bahrain_Grand_Prix_2025.csv\n",
      "Processed and saved: ./data/f1_data_Bahrain_Grand_Prix_2019.csv\n",
      "Processed and saved: ./data/f1_data_British_Grand_Prix_2024.csv\n",
      "Processed and saved: ./data/f1_data_Monaco_Grand_Prix_2023.csv\n",
      "Processed and saved: ./data/f1_data_British_Grand_Prix_2018.csv\n",
      "Processed and saved: ./data/f1_data_Italian_Grand_Prix_2018.csv\n",
      "Processed and saved: ./data/f1_data_Italian_Grand_Prix_2024.csv\n",
      "Processed and saved: ./data/f1_data_Saudi_Arabian_Grand_Prix_2023.csv\n",
      "Processed and saved: ./data/f1_data_Abu_Dhabi_Grand_Prix_2019.csv\n"
     ]
    },
    {
     "name": "stderr",
     "output_type": "stream",
     "text": [
      "/var/folders/ty/jl1vm4217zx6vktvp7bd66nm0000gn/T/ipykernel_70772/4229074061.py:73: FutureWarning: Setting an item of incompatible dtype is deprecated and will raise an error in a future version of pandas. Value 'nan' has dtype incompatible with bool, please explicitly cast to a compatible dtype first.\n",
      "  df.loc[idx, other_session_cols] = pd.NA\n",
      "/var/folders/ty/jl1vm4217zx6vktvp7bd66nm0000gn/T/ipykernel_70772/4229074061.py:73: FutureWarning: Setting an item of incompatible dtype is deprecated and will raise an error in a future version of pandas. Value 'nan' has dtype incompatible with bool, please explicitly cast to a compatible dtype first.\n",
      "  df.loc[idx, other_session_cols] = pd.NA\n",
      "/var/folders/ty/jl1vm4217zx6vktvp7bd66nm0000gn/T/ipykernel_70772/4229074061.py:73: FutureWarning: Setting an item of incompatible dtype is deprecated and will raise an error in a future version of pandas. Value 'nan' has dtype incompatible with bool, please explicitly cast to a compatible dtype first.\n",
      "  df.loc[idx, other_session_cols] = pd.NA\n",
      "/var/folders/ty/jl1vm4217zx6vktvp7bd66nm0000gn/T/ipykernel_70772/4229074061.py:73: FutureWarning: Setting an item of incompatible dtype is deprecated and will raise an error in a future version of pandas. Value 'nan' has dtype incompatible with bool, please explicitly cast to a compatible dtype first.\n",
      "  df.loc[idx, other_session_cols] = pd.NA\n",
      "/var/folders/ty/jl1vm4217zx6vktvp7bd66nm0000gn/T/ipykernel_70772/4229074061.py:73: FutureWarning: Setting an item of incompatible dtype is deprecated and will raise an error in a future version of pandas. Value 'nan' has dtype incompatible with bool, please explicitly cast to a compatible dtype first.\n",
      "  df.loc[idx, other_session_cols] = pd.NA\n",
      "/var/folders/ty/jl1vm4217zx6vktvp7bd66nm0000gn/T/ipykernel_70772/4229074061.py:73: FutureWarning: Setting an item of incompatible dtype is deprecated and will raise an error in a future version of pandas. Value 'nan' has dtype incompatible with bool, please explicitly cast to a compatible dtype first.\n",
      "  df.loc[idx, other_session_cols] = pd.NA\n",
      "/var/folders/ty/jl1vm4217zx6vktvp7bd66nm0000gn/T/ipykernel_70772/4229074061.py:73: FutureWarning: Setting an item of incompatible dtype is deprecated and will raise an error in a future version of pandas. Value 'nan' has dtype incompatible with bool, please explicitly cast to a compatible dtype first.\n",
      "  df.loc[idx, other_session_cols] = pd.NA\n",
      "/var/folders/ty/jl1vm4217zx6vktvp7bd66nm0000gn/T/ipykernel_70772/4229074061.py:73: FutureWarning: Setting an item of incompatible dtype is deprecated and will raise an error in a future version of pandas. Value 'nan' has dtype incompatible with bool, please explicitly cast to a compatible dtype first.\n",
      "  df.loc[idx, other_session_cols] = pd.NA\n",
      "/var/folders/ty/jl1vm4217zx6vktvp7bd66nm0000gn/T/ipykernel_70772/4229074061.py:73: FutureWarning: Setting an item of incompatible dtype is deprecated and will raise an error in a future version of pandas. Value 'nan' has dtype incompatible with bool, please explicitly cast to a compatible dtype first.\n",
      "  df.loc[idx, other_session_cols] = pd.NA\n",
      "/var/folders/ty/jl1vm4217zx6vktvp7bd66nm0000gn/T/ipykernel_70772/4229074061.py:73: FutureWarning: Setting an item of incompatible dtype is deprecated and will raise an error in a future version of pandas. Value 'nan' has dtype incompatible with bool, please explicitly cast to a compatible dtype first.\n",
      "  df.loc[idx, other_session_cols] = pd.NA\n"
     ]
    },
    {
     "name": "stdout",
     "output_type": "stream",
     "text": [
      "Processed and saved: ./data/f1_data_Abu_Dhabi_Grand_Prix_2021.csv\n",
      "Processed and saved: ./data/f1_data_Italian_Grand_Prix_2020.csv\n",
      "Processed and saved: ./data/f1_data_Canadian_Grand_Prix_2019.csv\n",
      "Processed and saved: ./data/f1_data_British_Grand_Prix_2020.csv\n",
      "Processed and saved: ./data/f1_data_Bahrain_Grand_Prix_2021.csv\n",
      "Processed and saved: ./data/f1_data_Bahrain_Grand_Prix_2020.csv\n",
      "Processed and saved: ./data/f1_data_Canadian_Grand_Prix_2024.csv\n",
      "Processed and saved: ./data/f1_data_Canadian_Grand_Prix_2018.csv\n"
     ]
    },
    {
     "name": "stderr",
     "output_type": "stream",
     "text": [
      "/var/folders/ty/jl1vm4217zx6vktvp7bd66nm0000gn/T/ipykernel_70772/4229074061.py:73: FutureWarning: Setting an item of incompatible dtype is deprecated and will raise an error in a future version of pandas. Value 'nan' has dtype incompatible with bool, please explicitly cast to a compatible dtype first.\n",
      "  df.loc[idx, other_session_cols] = pd.NA\n",
      "/var/folders/ty/jl1vm4217zx6vktvp7bd66nm0000gn/T/ipykernel_70772/4229074061.py:73: FutureWarning: Setting an item of incompatible dtype is deprecated and will raise an error in a future version of pandas. Value 'nan' has dtype incompatible with bool, please explicitly cast to a compatible dtype first.\n",
      "  df.loc[idx, other_session_cols] = pd.NA\n",
      "/var/folders/ty/jl1vm4217zx6vktvp7bd66nm0000gn/T/ipykernel_70772/4229074061.py:73: FutureWarning: Setting an item of incompatible dtype is deprecated and will raise an error in a future version of pandas. Value 'nan' has dtype incompatible with bool, please explicitly cast to a compatible dtype first.\n",
      "  df.loc[idx, other_session_cols] = pd.NA\n",
      "/var/folders/ty/jl1vm4217zx6vktvp7bd66nm0000gn/T/ipykernel_70772/4229074061.py:73: FutureWarning: Setting an item of incompatible dtype is deprecated and will raise an error in a future version of pandas. Value 'nan' has dtype incompatible with bool, please explicitly cast to a compatible dtype first.\n",
      "  df.loc[idx, other_session_cols] = pd.NA\n",
      "/var/folders/ty/jl1vm4217zx6vktvp7bd66nm0000gn/T/ipykernel_70772/4229074061.py:73: FutureWarning: Setting an item of incompatible dtype is deprecated and will raise an error in a future version of pandas. Value 'nan' has dtype incompatible with bool, please explicitly cast to a compatible dtype first.\n",
      "  df.loc[idx, other_session_cols] = pd.NA\n"
     ]
    },
    {
     "name": "stdout",
     "output_type": "stream",
     "text": [
      "Processed and saved: ./data/f1_data_Abu_Dhabi_Grand_Prix_2020.csv\n",
      "Processed and saved: ./data/f1_data_Abu_Dhabi_Grand_Prix_2022.csv\n",
      "Processed and saved: ./data/f1_data_France_Grand_Prix_2022.csv\n"
     ]
    },
    {
     "name": "stderr",
     "output_type": "stream",
     "text": [
      "/var/folders/ty/jl1vm4217zx6vktvp7bd66nm0000gn/T/ipykernel_70772/4229074061.py:73: FutureWarning: Setting an item of incompatible dtype is deprecated and will raise an error in a future version of pandas. Value 'nan' has dtype incompatible with bool, please explicitly cast to a compatible dtype first.\n",
      "  df.loc[idx, other_session_cols] = pd.NA\n",
      "/var/folders/ty/jl1vm4217zx6vktvp7bd66nm0000gn/T/ipykernel_70772/4229074061.py:73: FutureWarning: Setting an item of incompatible dtype is deprecated and will raise an error in a future version of pandas. Value 'nan' has dtype incompatible with bool, please explicitly cast to a compatible dtype first.\n",
      "  df.loc[idx, other_session_cols] = pd.NA\n",
      "/var/folders/ty/jl1vm4217zx6vktvp7bd66nm0000gn/T/ipykernel_70772/4229074061.py:73: FutureWarning: Setting an item of incompatible dtype is deprecated and will raise an error in a future version of pandas. Value 'nan' has dtype incompatible with bool, please explicitly cast to a compatible dtype first.\n",
      "  df.loc[idx, other_session_cols] = pd.NA\n",
      "/var/folders/ty/jl1vm4217zx6vktvp7bd66nm0000gn/T/ipykernel_70772/4229074061.py:73: FutureWarning: Setting an item of incompatible dtype is deprecated and will raise an error in a future version of pandas. Value 'nan' has dtype incompatible with bool, please explicitly cast to a compatible dtype first.\n",
      "  df.loc[idx, other_session_cols] = pd.NA\n",
      "/var/folders/ty/jl1vm4217zx6vktvp7bd66nm0000gn/T/ipykernel_70772/4229074061.py:73: FutureWarning: Setting an item of incompatible dtype is deprecated and will raise an error in a future version of pandas. Value 'nan' has dtype incompatible with bool, please explicitly cast to a compatible dtype first.\n",
      "  df.loc[idx, other_session_cols] = pd.NA\n",
      "/var/folders/ty/jl1vm4217zx6vktvp7bd66nm0000gn/T/ipykernel_70772/4229074061.py:73: FutureWarning: Setting an item of incompatible dtype is deprecated and will raise an error in a future version of pandas. Value 'nan' has dtype incompatible with bool, please explicitly cast to a compatible dtype first.\n",
      "  df.loc[idx, other_session_cols] = pd.NA\n"
     ]
    },
    {
     "name": "stdout",
     "output_type": "stream",
     "text": [
      "Processed and saved: ./data/f1_data_Saudi_Arabian_Grand_Prix_2024.csv\n",
      "Processed and saved: ./data/f1_data_Italian_Grand_Prix_2023.csv\n",
      "Processed and saved: ./data/f1_data_British_Grand_Prix_2023.csv\n",
      "Processed and saved: ./data/f1_data_Monaco_Grand_Prix_2024.csv\n",
      "Processed and saved: ./data/f1_data_Monaco_Grand_Prix_2018.csv\n",
      "Processed and saved: ./data/f1_data_Bahrain_Grand_Prix_2022.csv\n",
      "Processed and saved: ./data/f1_data_Bahrain_Grand_Prix_2023.csv\n",
      "Processed and saved: ./data/f1_data_Monaco_Grand_Prix_2019.csv\n",
      "Processed and saved: ./data/f1_data_British_Grand_Prix_2022.csv\n"
     ]
    },
    {
     "name": "stderr",
     "output_type": "stream",
     "text": [
      "/var/folders/ty/jl1vm4217zx6vktvp7bd66nm0000gn/T/ipykernel_70772/4229074061.py:73: FutureWarning: Setting an item of incompatible dtype is deprecated and will raise an error in a future version of pandas. Value 'nan' has dtype incompatible with bool, please explicitly cast to a compatible dtype first.\n",
      "  df.loc[idx, other_session_cols] = pd.NA\n",
      "/var/folders/ty/jl1vm4217zx6vktvp7bd66nm0000gn/T/ipykernel_70772/4229074061.py:73: FutureWarning: Setting an item of incompatible dtype is deprecated and will raise an error in a future version of pandas. Value 'nan' has dtype incompatible with bool, please explicitly cast to a compatible dtype first.\n",
      "  df.loc[idx, other_session_cols] = pd.NA\n",
      "/var/folders/ty/jl1vm4217zx6vktvp7bd66nm0000gn/T/ipykernel_70772/4229074061.py:73: FutureWarning: Setting an item of incompatible dtype is deprecated and will raise an error in a future version of pandas. Value 'nan' has dtype incompatible with bool, please explicitly cast to a compatible dtype first.\n",
      "  df.loc[idx, other_session_cols] = pd.NA\n",
      "/var/folders/ty/jl1vm4217zx6vktvp7bd66nm0000gn/T/ipykernel_70772/4229074061.py:73: FutureWarning: Setting an item of incompatible dtype is deprecated and will raise an error in a future version of pandas. Value 'nan' has dtype incompatible with bool, please explicitly cast to a compatible dtype first.\n",
      "  df.loc[idx, other_session_cols] = pd.NA\n",
      "/var/folders/ty/jl1vm4217zx6vktvp7bd66nm0000gn/T/ipykernel_70772/4229074061.py:73: FutureWarning: Setting an item of incompatible dtype is deprecated and will raise an error in a future version of pandas. Value 'nan' has dtype incompatible with bool, please explicitly cast to a compatible dtype first.\n",
      "  df.loc[idx, other_session_cols] = pd.NA\n",
      "/var/folders/ty/jl1vm4217zx6vktvp7bd66nm0000gn/T/ipykernel_70772/4229074061.py:73: FutureWarning: Setting an item of incompatible dtype is deprecated and will raise an error in a future version of pandas. Value 'nan' has dtype incompatible with bool, please explicitly cast to a compatible dtype first.\n",
      "  df.loc[idx, other_session_cols] = pd.NA\n"
     ]
    },
    {
     "name": "stdout",
     "output_type": "stream",
     "text": [
      "Processed and saved: ./data/f1_data_Italian_Grand_Prix_2022.csv\n",
      "Processed and saved: ./data/f1_data_Saudi_Arabian_Grand_Prix_2025.csv\n",
      "Processed and saved: ./data/f1_data_Abu_Dhabi_Grand_Prix_2023.csv\n",
      "Processed and saved: ./data/f1_data_United_States_Grand_Prix_2021.csv\n"
     ]
    },
    {
     "name": "stderr",
     "output_type": "stream",
     "text": [
      "/var/folders/ty/jl1vm4217zx6vktvp7bd66nm0000gn/T/ipykernel_70772/4229074061.py:73: FutureWarning: Setting an item of incompatible dtype is deprecated and will raise an error in a future version of pandas. Value 'nan' has dtype incompatible with bool, please explicitly cast to a compatible dtype first.\n",
      "  df.loc[idx, other_session_cols] = pd.NA\n",
      "/var/folders/ty/jl1vm4217zx6vktvp7bd66nm0000gn/T/ipykernel_70772/4229074061.py:73: FutureWarning: Setting an item of incompatible dtype is deprecated and will raise an error in a future version of pandas. Value 'nan' has dtype incompatible with bool, please explicitly cast to a compatible dtype first.\n",
      "  df.loc[idx, other_session_cols] = pd.NA\n",
      "/var/folders/ty/jl1vm4217zx6vktvp7bd66nm0000gn/T/ipykernel_70772/4229074061.py:73: FutureWarning: Setting an item of incompatible dtype is deprecated and will raise an error in a future version of pandas. Value 'nan' has dtype incompatible with bool, please explicitly cast to a compatible dtype first.\n",
      "  df.loc[idx, other_session_cols] = pd.NA\n",
      "/var/folders/ty/jl1vm4217zx6vktvp7bd66nm0000gn/T/ipykernel_70772/4229074061.py:73: FutureWarning: Setting an item of incompatible dtype is deprecated and will raise an error in a future version of pandas. Value 'nan' has dtype incompatible with bool, please explicitly cast to a compatible dtype first.\n",
      "  df.loc[idx, other_session_cols] = pd.NA\n",
      "/var/folders/ty/jl1vm4217zx6vktvp7bd66nm0000gn/T/ipykernel_70772/4229074061.py:73: FutureWarning: Setting an item of incompatible dtype is deprecated and will raise an error in a future version of pandas. Value 'nan' has dtype incompatible with bool, please explicitly cast to a compatible dtype first.\n",
      "  df.loc[idx, other_session_cols] = pd.NA\n",
      "/var/folders/ty/jl1vm4217zx6vktvp7bd66nm0000gn/T/ipykernel_70772/4229074061.py:73: FutureWarning: Setting an item of incompatible dtype is deprecated and will raise an error in a future version of pandas. Value 'nan' has dtype incompatible with bool, please explicitly cast to a compatible dtype first.\n",
      "  df.loc[idx, other_session_cols] = pd.NA\n",
      "/var/folders/ty/jl1vm4217zx6vktvp7bd66nm0000gn/T/ipykernel_70772/4229074061.py:73: FutureWarning: Setting an item of incompatible dtype is deprecated and will raise an error in a future version of pandas. Value 'nan' has dtype incompatible with bool, please explicitly cast to a compatible dtype first.\n",
      "  df.loc[idx, other_session_cols] = pd.NA\n",
      "/var/folders/ty/jl1vm4217zx6vktvp7bd66nm0000gn/T/ipykernel_70772/4229074061.py:73: FutureWarning: Setting an item of incompatible dtype is deprecated and will raise an error in a future version of pandas. Value 'nan' has dtype incompatible with bool, please explicitly cast to a compatible dtype first.\n",
      "  df.loc[idx, other_session_cols] = pd.NA\n",
      "/var/folders/ty/jl1vm4217zx6vktvp7bd66nm0000gn/T/ipykernel_70772/4229074061.py:73: FutureWarning: Setting an item of incompatible dtype is deprecated and will raise an error in a future version of pandas. Value 'nan' has dtype incompatible with bool, please explicitly cast to a compatible dtype first.\n",
      "  df.loc[idx, other_session_cols] = pd.NA\n",
      "/var/folders/ty/jl1vm4217zx6vktvp7bd66nm0000gn/T/ipykernel_70772/4229074061.py:73: FutureWarning: Setting an item of incompatible dtype is deprecated and will raise an error in a future version of pandas. Value 'nan' has dtype incompatible with bool, please explicitly cast to a compatible dtype first.\n",
      "  df.loc[idx, other_session_cols] = pd.NA\n",
      "/var/folders/ty/jl1vm4217zx6vktvp7bd66nm0000gn/T/ipykernel_70772/4229074061.py:73: FutureWarning: Setting an item of incompatible dtype is deprecated and will raise an error in a future version of pandas. Value 'nan' has dtype incompatible with bool, please explicitly cast to a compatible dtype first.\n",
      "  df.loc[idx, other_session_cols] = pd.NA\n",
      "/var/folders/ty/jl1vm4217zx6vktvp7bd66nm0000gn/T/ipykernel_70772/4229074061.py:73: FutureWarning: Setting an item of incompatible dtype is deprecated and will raise an error in a future version of pandas. Value 'nan' has dtype incompatible with bool, please explicitly cast to a compatible dtype first.\n",
      "  df.loc[idx, other_session_cols] = pd.NA\n"
     ]
    },
    {
     "name": "stdout",
     "output_type": "stream",
     "text": [
      "Processed and saved: ./data/f1_data_Hungarian_Grand_Prix_2023.csv\n",
      "Processed and saved: ./data/f1_data_Singapore_Grand_Prix_2022.csv\n",
      "Processed and saved: ./data/f1_data_French_Grand_Prix_2019.csv\n",
      "Processed and saved: ./data/f1_data_French_Grand_Prix_2018.csv\n",
      "Processed and saved: ./data/f1_data_Singapore_Grand_Prix_2023.csv\n",
      "Processed and saved: ./data/f1_data_Hungarian_Grand_Prix_2022.csv\n",
      "Processed and saved: ./data/f1_data_Spanish_Grand_Prix_2018.csv\n",
      "Processed and saved: ./data/f1_data_United_States_Grand_Prix_2022.csv\n",
      "Processed and saved: ./data/f1_data_Austrian_Grand_Prix_2019.csv\n",
      "Processed and saved: ./data/f1_data_Hungarian_Grand_Prix_2020.csv\n",
      "Processed and saved: ./data/f1_data_Emilia_Romagna_Grand_Prix_2021.csv\n",
      "Processed and saved: ./data/f1_data_Belgian_Grand_Prix_2019.csv\n"
     ]
    },
    {
     "name": "stderr",
     "output_type": "stream",
     "text": [
      "/var/folders/ty/jl1vm4217zx6vktvp7bd66nm0000gn/T/ipykernel_70772/4229074061.py:73: FutureWarning: Setting an item of incompatible dtype is deprecated and will raise an error in a future version of pandas. Value 'nan' has dtype incompatible with bool, please explicitly cast to a compatible dtype first.\n",
      "  df.loc[idx, other_session_cols] = pd.NA\n",
      "/var/folders/ty/jl1vm4217zx6vktvp7bd66nm0000gn/T/ipykernel_70772/4229074061.py:73: FutureWarning: Setting an item of incompatible dtype is deprecated and will raise an error in a future version of pandas. Value 'nan' has dtype incompatible with bool, please explicitly cast to a compatible dtype first.\n",
      "  df.loc[idx, other_session_cols] = pd.NA\n",
      "/var/folders/ty/jl1vm4217zx6vktvp7bd66nm0000gn/T/ipykernel_70772/4229074061.py:73: FutureWarning: Setting an item of incompatible dtype is deprecated and will raise an error in a future version of pandas. Value 'nan' has dtype incompatible with bool, please explicitly cast to a compatible dtype first.\n",
      "  df.loc[idx, other_session_cols] = pd.NA\n",
      "/var/folders/ty/jl1vm4217zx6vktvp7bd66nm0000gn/T/ipykernel_70772/4229074061.py:73: FutureWarning: Setting an item of incompatible dtype is deprecated and will raise an error in a future version of pandas. Value 'nan' has dtype incompatible with bool, please explicitly cast to a compatible dtype first.\n",
      "  df.loc[idx, other_session_cols] = pd.NA\n",
      "/var/folders/ty/jl1vm4217zx6vktvp7bd66nm0000gn/T/ipykernel_70772/4229074061.py:73: FutureWarning: Setting an item of incompatible dtype is deprecated and will raise an error in a future version of pandas. Value 'nan' has dtype incompatible with bool, please explicitly cast to a compatible dtype first.\n",
      "  df.loc[idx, other_session_cols] = pd.NA\n",
      "/var/folders/ty/jl1vm4217zx6vktvp7bd66nm0000gn/T/ipykernel_70772/4229074061.py:73: FutureWarning: Setting an item of incompatible dtype is deprecated and will raise an error in a future version of pandas. Value 'nan' has dtype incompatible with bool, please explicitly cast to a compatible dtype first.\n",
      "  df.loc[idx, other_session_cols] = pd.NA\n",
      "/var/folders/ty/jl1vm4217zx6vktvp7bd66nm0000gn/T/ipykernel_70772/4229074061.py:73: FutureWarning: Setting an item of incompatible dtype is deprecated and will raise an error in a future version of pandas. Value 'nan' has dtype incompatible with bool, please explicitly cast to a compatible dtype first.\n",
      "  df.loc[idx, other_session_cols] = pd.NA\n",
      "/var/folders/ty/jl1vm4217zx6vktvp7bd66nm0000gn/T/ipykernel_70772/4229074061.py:73: FutureWarning: Setting an item of incompatible dtype is deprecated and will raise an error in a future version of pandas. Value 'nan' has dtype incompatible with bool, please explicitly cast to a compatible dtype first.\n",
      "  df.loc[idx, other_session_cols] = pd.NA\n",
      "/var/folders/ty/jl1vm4217zx6vktvp7bd66nm0000gn/T/ipykernel_70772/4229074061.py:73: FutureWarning: Setting an item of incompatible dtype is deprecated and will raise an error in a future version of pandas. Value 'nan' has dtype incompatible with bool, please explicitly cast to a compatible dtype first.\n",
      "  df.loc[idx, other_session_cols] = pd.NA\n"
     ]
    },
    {
     "name": "stdout",
     "output_type": "stream",
     "text": [
      "Processed and saved: ./data/f1_data_Belgian_Grand_Prix_2018.csv\n",
      "Processed and saved: ./data/f1_data_Belgian_Grand_Prix_2024.csv\n",
      "Processed and saved: ./data/f1_data_Hungarian_Grand_Prix_2021.csv\n",
      "Processed and saved: ./data/f1_data_Austrian_Grand_Prix_2018.csv\n",
      "Processed and saved: ./data/f1_data_Las_Vegas_Grand_Prix_2024.csv\n",
      "Processed and saved: ./data/f1_data_Spanish_Grand_Prix_2019.csv\n",
      "Processed and saved: ./data/f1_data_Spanish_Grand_Prix_2021.csv\n"
     ]
    },
    {
     "name": "stderr",
     "output_type": "stream",
     "text": [
      "/var/folders/ty/jl1vm4217zx6vktvp7bd66nm0000gn/T/ipykernel_70772/4229074061.py:73: FutureWarning: Setting an item of incompatible dtype is deprecated and will raise an error in a future version of pandas. Value 'nan' has dtype incompatible with bool, please explicitly cast to a compatible dtype first.\n",
      "  df.loc[idx, other_session_cols] = pd.NA\n",
      "/var/folders/ty/jl1vm4217zx6vktvp7bd66nm0000gn/T/ipykernel_70772/4229074061.py:73: FutureWarning: Setting an item of incompatible dtype is deprecated and will raise an error in a future version of pandas. Value 'nan' has dtype incompatible with bool, please explicitly cast to a compatible dtype first.\n",
      "  df.loc[idx, other_session_cols] = pd.NA\n",
      "/var/folders/ty/jl1vm4217zx6vktvp7bd66nm0000gn/T/ipykernel_70772/4229074061.py:73: FutureWarning: Setting an item of incompatible dtype is deprecated and will raise an error in a future version of pandas. Value 'nan' has dtype incompatible with bool, please explicitly cast to a compatible dtype first.\n",
      "  df.loc[idx, other_session_cols] = pd.NA\n",
      "/var/folders/ty/jl1vm4217zx6vktvp7bd66nm0000gn/T/ipykernel_70772/4229074061.py:73: FutureWarning: Setting an item of incompatible dtype is deprecated and will raise an error in a future version of pandas. Value 'nan' has dtype incompatible with bool, please explicitly cast to a compatible dtype first.\n",
      "  df.loc[idx, other_session_cols] = pd.NA\n",
      "/var/folders/ty/jl1vm4217zx6vktvp7bd66nm0000gn/T/ipykernel_70772/4229074061.py:73: FutureWarning: Setting an item of incompatible dtype is deprecated and will raise an error in a future version of pandas. Value 'nan' has dtype incompatible with bool, please explicitly cast to a compatible dtype first.\n",
      "  df.loc[idx, other_session_cols] = pd.NA\n"
     ]
    },
    {
     "name": "stdout",
     "output_type": "stream",
     "text": [
      "Processed and saved: ./data/f1_data_Hungarian_Grand_Prix_2019.csv\n",
      "Processed and saved: ./data/f1_data_Emilia_Romagna_Grand_Prix_2024.csv\n",
      "Processed and saved: ./data/f1_data_Belgian_Grand_Prix_2020.csv\n"
     ]
    },
    {
     "name": "stderr",
     "output_type": "stream",
     "text": [
      "/var/folders/ty/jl1vm4217zx6vktvp7bd66nm0000gn/T/ipykernel_70772/4229074061.py:73: FutureWarning: Setting an item of incompatible dtype is deprecated and will raise an error in a future version of pandas. Value 'nan' has dtype incompatible with bool, please explicitly cast to a compatible dtype first.\n",
      "  df.loc[idx, other_session_cols] = pd.NA\n"
     ]
    },
    {
     "name": "stdout",
     "output_type": "stream",
     "text": [
      "Processed and saved: ./data/f1_data_Tuscan_Grand_Prix_2020.csv\n",
      "Processed and saved: ./data/f1_data_Singapore_Grand_Prix_2018.csv\n",
      "Processed and saved: ./data/f1_data_Singapore_Grand_Prix_2024.csv\n",
      "Processed and saved: ./data/f1_data_Singapore_Grand_Prix_2019.csv\n",
      "Processed and saved: ./data/f1_data_Belgian_Grand_Prix_2021.csv\n",
      "Processed and saved: ./data/f1_data_Hungarian_Grand_Prix_2018.csv\n"
     ]
    },
    {
     "name": "stderr",
     "output_type": "stream",
     "text": [
      "/var/folders/ty/jl1vm4217zx6vktvp7bd66nm0000gn/T/ipykernel_70772/4229074061.py:73: FutureWarning: Setting an item of incompatible dtype is deprecated and will raise an error in a future version of pandas. Value 'nan' has dtype incompatible with bool, please explicitly cast to a compatible dtype first.\n",
      "  df.loc[idx, other_session_cols] = pd.NA\n",
      "/var/folders/ty/jl1vm4217zx6vktvp7bd66nm0000gn/T/ipykernel_70772/4229074061.py:73: FutureWarning: Setting an item of incompatible dtype is deprecated and will raise an error in a future version of pandas. Value 'nan' has dtype incompatible with bool, please explicitly cast to a compatible dtype first.\n",
      "  df.loc[idx, other_session_cols] = pd.NA\n",
      "/var/folders/ty/jl1vm4217zx6vktvp7bd66nm0000gn/T/ipykernel_70772/4229074061.py:73: FutureWarning: Setting an item of incompatible dtype is deprecated and will raise an error in a future version of pandas. Value 'nan' has dtype incompatible with bool, please explicitly cast to a compatible dtype first.\n",
      "  df.loc[idx, other_session_cols] = pd.NA\n",
      "/var/folders/ty/jl1vm4217zx6vktvp7bd66nm0000gn/T/ipykernel_70772/4229074061.py:73: FutureWarning: Setting an item of incompatible dtype is deprecated and will raise an error in a future version of pandas. Value 'nan' has dtype incompatible with bool, please explicitly cast to a compatible dtype first.\n",
      "  df.loc[idx, other_session_cols] = pd.NA\n",
      "/var/folders/ty/jl1vm4217zx6vktvp7bd66nm0000gn/T/ipykernel_70772/4229074061.py:73: FutureWarning: Setting an item of incompatible dtype is deprecated and will raise an error in a future version of pandas. Value 'nan' has dtype incompatible with bool, please explicitly cast to a compatible dtype first.\n",
      "  df.loc[idx, other_session_cols] = pd.NA\n",
      "/var/folders/ty/jl1vm4217zx6vktvp7bd66nm0000gn/T/ipykernel_70772/4229074061.py:73: FutureWarning: Setting an item of incompatible dtype is deprecated and will raise an error in a future version of pandas. Value 'nan' has dtype incompatible with bool, please explicitly cast to a compatible dtype first.\n",
      "  df.loc[idx, other_session_cols] = pd.NA\n",
      "/var/folders/ty/jl1vm4217zx6vktvp7bd66nm0000gn/T/ipykernel_70772/4229074061.py:73: FutureWarning: Setting an item of incompatible dtype is deprecated and will raise an error in a future version of pandas. Value 'nan' has dtype incompatible with bool, please explicitly cast to a compatible dtype first.\n",
      "  df.loc[idx, other_session_cols] = pd.NA\n",
      "/var/folders/ty/jl1vm4217zx6vktvp7bd66nm0000gn/T/ipykernel_70772/4229074061.py:73: FutureWarning: Setting an item of incompatible dtype is deprecated and will raise an error in a future version of pandas. Value 'nan' has dtype incompatible with bool, please explicitly cast to a compatible dtype first.\n",
      "  df.loc[idx, other_session_cols] = pd.NA\n",
      "/var/folders/ty/jl1vm4217zx6vktvp7bd66nm0000gn/T/ipykernel_70772/4229074061.py:73: FutureWarning: Setting an item of incompatible dtype is deprecated and will raise an error in a future version of pandas. Value 'nan' has dtype incompatible with bool, please explicitly cast to a compatible dtype first.\n",
      "  df.loc[idx, other_session_cols] = pd.NA\n",
      "/var/folders/ty/jl1vm4217zx6vktvp7bd66nm0000gn/T/ipykernel_70772/4229074061.py:73: FutureWarning: Setting an item of incompatible dtype is deprecated and will raise an error in a future version of pandas. Value 'nan' has dtype incompatible with bool, please explicitly cast to a compatible dtype first.\n",
      "  df.loc[idx, other_session_cols] = pd.NA\n",
      "/var/folders/ty/jl1vm4217zx6vktvp7bd66nm0000gn/T/ipykernel_70772/4229074061.py:73: FutureWarning: Setting an item of incompatible dtype is deprecated and will raise an error in a future version of pandas. Value 'nan' has dtype incompatible with bool, please explicitly cast to a compatible dtype first.\n",
      "  df.loc[idx, other_session_cols] = pd.NA\n"
     ]
    },
    {
     "name": "stdout",
     "output_type": "stream",
     "text": [
      "Processed and saved: ./data/f1_data_Austrian_Grand_Prix_2021.csv\n",
      "Processed and saved: ./data/f1_data_Hungarian_Grand_Prix_2024.csv\n",
      "Processed and saved: ./data/f1_data_Spanish_Grand_Prix_2020.csv\n",
      "Processed and saved: ./data/f1_data_Spain_Grand_Prix_2024.csv\n",
      "Processed and saved: ./data/f1_data_Spanish_Grand_Prix_2022.csv\n"
     ]
    },
    {
     "name": "stderr",
     "output_type": "stream",
     "text": [
      "/var/folders/ty/jl1vm4217zx6vktvp7bd66nm0000gn/T/ipykernel_70772/4229074061.py:73: FutureWarning: Setting an item of incompatible dtype is deprecated and will raise an error in a future version of pandas. Value 'nan' has dtype incompatible with bool, please explicitly cast to a compatible dtype first.\n",
      "  df.loc[idx, other_session_cols] = pd.NA\n",
      "/var/folders/ty/jl1vm4217zx6vktvp7bd66nm0000gn/T/ipykernel_70772/4229074061.py:73: FutureWarning: Setting an item of incompatible dtype is deprecated and will raise an error in a future version of pandas. Value 'nan' has dtype incompatible with bool, please explicitly cast to a compatible dtype first.\n",
      "  df.loc[idx, other_session_cols] = pd.NA\n",
      "/var/folders/ty/jl1vm4217zx6vktvp7bd66nm0000gn/T/ipykernel_70772/4229074061.py:73: FutureWarning: Setting an item of incompatible dtype is deprecated and will raise an error in a future version of pandas. Value 'nan' has dtype incompatible with bool, please explicitly cast to a compatible dtype first.\n",
      "  df.loc[idx, other_session_cols] = pd.NA\n",
      "/var/folders/ty/jl1vm4217zx6vktvp7bd66nm0000gn/T/ipykernel_70772/4229074061.py:73: FutureWarning: Setting an item of incompatible dtype is deprecated and will raise an error in a future version of pandas. Value 'nan' has dtype incompatible with bool, please explicitly cast to a compatible dtype first.\n",
      "  df.loc[idx, other_session_cols] = pd.NA\n",
      "/var/folders/ty/jl1vm4217zx6vktvp7bd66nm0000gn/T/ipykernel_70772/4229074061.py:73: FutureWarning: Setting an item of incompatible dtype is deprecated and will raise an error in a future version of pandas. Value 'nan' has dtype incompatible with bool, please explicitly cast to a compatible dtype first.\n",
      "  df.loc[idx, other_session_cols] = pd.NA\n",
      "/var/folders/ty/jl1vm4217zx6vktvp7bd66nm0000gn/T/ipykernel_70772/4229074061.py:73: FutureWarning: Setting an item of incompatible dtype is deprecated and will raise an error in a future version of pandas. Value 'nan' has dtype incompatible with bool, please explicitly cast to a compatible dtype first.\n",
      "  df.loc[idx, other_session_cols] = pd.NA\n"
     ]
    },
    {
     "name": "stdout",
     "output_type": "stream",
     "text": [
      "Processed and saved: ./data/f1_data_Las_Vegas_Grand_Prix_2023.csv\n",
      "Processed and saved: ./data/f1_data_United_States_Grand_Prix_2018.csv\n",
      "Processed and saved: ./data/f1_data_German_Grand_Prix_2018.csv\n"
     ]
    },
    {
     "name": "stderr",
     "output_type": "stream",
     "text": [
      "/var/folders/ty/jl1vm4217zx6vktvp7bd66nm0000gn/T/ipykernel_70772/4229074061.py:73: FutureWarning: Setting an item of incompatible dtype is deprecated and will raise an error in a future version of pandas. Value 'nan' has dtype incompatible with bool, please explicitly cast to a compatible dtype first.\n",
      "  df.loc[idx, other_session_cols] = pd.NA\n",
      "/var/folders/ty/jl1vm4217zx6vktvp7bd66nm0000gn/T/ipykernel_70772/4229074061.py:73: FutureWarning: Setting an item of incompatible dtype is deprecated and will raise an error in a future version of pandas. Value 'nan' has dtype incompatible with bool, please explicitly cast to a compatible dtype first.\n",
      "  df.loc[idx, other_session_cols] = pd.NA\n",
      "/var/folders/ty/jl1vm4217zx6vktvp7bd66nm0000gn/T/ipykernel_70772/4229074061.py:73: FutureWarning: Setting an item of incompatible dtype is deprecated and will raise an error in a future version of pandas. Value 'nan' has dtype incompatible with bool, please explicitly cast to a compatible dtype first.\n",
      "  df.loc[idx, other_session_cols] = pd.NA\n",
      "/var/folders/ty/jl1vm4217zx6vktvp7bd66nm0000gn/T/ipykernel_70772/4229074061.py:73: FutureWarning: Setting an item of incompatible dtype is deprecated and will raise an error in a future version of pandas. Value 'nan' has dtype incompatible with bool, please explicitly cast to a compatible dtype first.\n",
      "  df.loc[idx, other_session_cols] = pd.NA\n",
      "/var/folders/ty/jl1vm4217zx6vktvp7bd66nm0000gn/T/ipykernel_70772/4229074061.py:73: FutureWarning: Setting an item of incompatible dtype is deprecated and will raise an error in a future version of pandas. Value 'nan' has dtype incompatible with bool, please explicitly cast to a compatible dtype first.\n",
      "  df.loc[idx, other_session_cols] = pd.NA\n",
      "/var/folders/ty/jl1vm4217zx6vktvp7bd66nm0000gn/T/ipykernel_70772/4229074061.py:73: FutureWarning: Setting an item of incompatible dtype is deprecated and will raise an error in a future version of pandas. Value 'nan' has dtype incompatible with bool, please explicitly cast to a compatible dtype first.\n",
      "  df.loc[idx, other_session_cols] = pd.NA\n",
      "/var/folders/ty/jl1vm4217zx6vktvp7bd66nm0000gn/T/ipykernel_70772/4229074061.py:73: FutureWarning: Setting an item of incompatible dtype is deprecated and will raise an error in a future version of pandas. Value 'nan' has dtype incompatible with bool, please explicitly cast to a compatible dtype first.\n",
      "  df.loc[idx, other_session_cols] = pd.NA\n",
      "/var/folders/ty/jl1vm4217zx6vktvp7bd66nm0000gn/T/ipykernel_70772/4229074061.py:73: FutureWarning: Setting an item of incompatible dtype is deprecated and will raise an error in a future version of pandas. Value 'nan' has dtype incompatible with bool, please explicitly cast to a compatible dtype first.\n",
      "  df.loc[idx, other_session_cols] = pd.NA\n",
      "/var/folders/ty/jl1vm4217zx6vktvp7bd66nm0000gn/T/ipykernel_70772/4229074061.py:73: FutureWarning: Setting an item of incompatible dtype is deprecated and will raise an error in a future version of pandas. Value 'nan' has dtype incompatible with bool, please explicitly cast to a compatible dtype first.\n",
      "  df.loc[idx, other_session_cols] = pd.NA\n",
      "/var/folders/ty/jl1vm4217zx6vktvp7bd66nm0000gn/T/ipykernel_70772/4229074061.py:73: FutureWarning: Setting an item of incompatible dtype is deprecated and will raise an error in a future version of pandas. Value 'nan' has dtype incompatible with bool, please explicitly cast to a compatible dtype first.\n",
      "  df.loc[idx, other_session_cols] = pd.NA\n",
      "/var/folders/ty/jl1vm4217zx6vktvp7bd66nm0000gn/T/ipykernel_70772/4229074061.py:73: FutureWarning: Setting an item of incompatible dtype is deprecated and will raise an error in a future version of pandas. Value 'nan' has dtype incompatible with bool, please explicitly cast to a compatible dtype first.\n",
      "  df.loc[idx, other_session_cols] = pd.NA\n"
     ]
    },
    {
     "name": "stdout",
     "output_type": "stream",
     "text": [
      "Processed and saved: ./data/f1_data_Portuguese_Grand_Prix_2021.csv\n",
      "Processed and saved: ./data/f1_data_French_Grand_Prix_2021.csv\n",
      "Processed and saved: ./data/f1_data_Portuguese_Grand_Prix_2020.csv\n",
      "Processed and saved: ./data/f1_data_Belgian_Grand_Prix_2022.csv\n",
      "Processed and saved: ./data/f1_data_German_Grand_Prix_2019.csv\n",
      "Processed and saved: ./data/f1_data_United_States_Grand_Prix_2019.csv\n",
      "Processed and saved: ./data/f1_data_Spanish_Grand_Prix_2023.csv\n",
      "Processed and saved: ./data/f1_data_Styrian_Grand_Prix_2021.csv\n",
      "Processed and saved: ./data/f1_data_Dutch_Grand_Prix_2021.csv\n",
      "Processed and saved: ./data/f1_data_Australian_Grand_Prix_2023.csv\n",
      "Processed and saved: ./data/f1_data_Miami_Grand_Prix_2022.csv\n",
      "Processed and saved: ./data/f1_data_Dutch_Grand_Prix_2022.csv\n",
      "Processed and saved: ./data/f1_data_Dutch_Grand_Prix_2023.csv\n",
      "Processed and saved: ./data/f1_data_Miami_Grand_Prix_2023.csv\n"
     ]
    },
    {
     "name": "stderr",
     "output_type": "stream",
     "text": [
      "/var/folders/ty/jl1vm4217zx6vktvp7bd66nm0000gn/T/ipykernel_70772/4229074061.py:73: FutureWarning: Setting an item of incompatible dtype is deprecated and will raise an error in a future version of pandas. Value 'nan' has dtype incompatible with bool, please explicitly cast to a compatible dtype first.\n",
      "  df.loc[idx, other_session_cols] = pd.NA\n",
      "/var/folders/ty/jl1vm4217zx6vktvp7bd66nm0000gn/T/ipykernel_70772/4229074061.py:73: FutureWarning: Setting an item of incompatible dtype is deprecated and will raise an error in a future version of pandas. Value 'nan' has dtype incompatible with bool, please explicitly cast to a compatible dtype first.\n",
      "  df.loc[idx, other_session_cols] = pd.NA\n",
      "/var/folders/ty/jl1vm4217zx6vktvp7bd66nm0000gn/T/ipykernel_70772/4229074061.py:73: FutureWarning: Setting an item of incompatible dtype is deprecated and will raise an error in a future version of pandas. Value 'nan' has dtype incompatible with bool, please explicitly cast to a compatible dtype first.\n",
      "  df.loc[idx, other_session_cols] = pd.NA\n"
     ]
    },
    {
     "name": "stdout",
     "output_type": "stream",
     "text": [
      "Processed and saved: ./data/f1_data_Australian_Grand_Prix_2022.csv\n",
      "Processed and saved: ./data/f1_data_Chinese_Grand_Prix_2019.csv\n",
      "Processed and saved: ./data/f1_data_Chinese_Grand_Prix_2018.csv\n",
      "Processed and saved: ./data/f1_data_Australian_Grand_Prix_2019.csv\n",
      "Processed and saved: ./data/f1_data_Australian_Grand_Prix_2025.csv\n",
      "Processed and saved: ./data/f1_data_Turkish_Grand_Prix_2020.csv\n",
      "Processed and saved: ./data/f1_data_Dutch_Grand_Prix_2024.csv\n",
      "Processed and saved: ./data/f1_data_Dutch_Grand_Prix_2019.csv\n"
     ]
    },
    {
     "name": "stderr",
     "output_type": "stream",
     "text": [
      "/var/folders/ty/jl1vm4217zx6vktvp7bd66nm0000gn/T/ipykernel_70772/4229074061.py:73: FutureWarning: Setting an item of incompatible dtype is deprecated and will raise an error in a future version of pandas. Value 'nan' has dtype incompatible with bool, please explicitly cast to a compatible dtype first.\n",
      "  df.loc[idx, other_session_cols] = pd.NA\n",
      "/var/folders/ty/jl1vm4217zx6vktvp7bd66nm0000gn/T/ipykernel_70772/4229074061.py:73: FutureWarning: Setting an item of incompatible dtype is deprecated and will raise an error in a future version of pandas. Value 'nan' has dtype incompatible with bool, please explicitly cast to a compatible dtype first.\n",
      "  df.loc[idx, other_session_cols] = pd.NA\n",
      "/var/folders/ty/jl1vm4217zx6vktvp7bd66nm0000gn/T/ipykernel_70772/4229074061.py:73: FutureWarning: Setting an item of incompatible dtype is deprecated and will raise an error in a future version of pandas. Value 'nan' has dtype incompatible with bool, please explicitly cast to a compatible dtype first.\n",
      "  df.loc[idx, other_session_cols] = pd.NA\n",
      "/var/folders/ty/jl1vm4217zx6vktvp7bd66nm0000gn/T/ipykernel_70772/4229074061.py:73: FutureWarning: Setting an item of incompatible dtype is deprecated and will raise an error in a future version of pandas. Value 'nan' has dtype incompatible with bool, please explicitly cast to a compatible dtype first.\n",
      "  df.loc[idx, other_session_cols] = pd.NA\n",
      "/var/folders/ty/jl1vm4217zx6vktvp7bd66nm0000gn/T/ipykernel_70772/4229074061.py:73: FutureWarning: Setting an item of incompatible dtype is deprecated and will raise an error in a future version of pandas. Value 'nan' has dtype incompatible with bool, please explicitly cast to a compatible dtype first.\n",
      "  df.loc[idx, other_session_cols] = pd.NA\n",
      "/var/folders/ty/jl1vm4217zx6vktvp7bd66nm0000gn/T/ipykernel_70772/4229074061.py:73: FutureWarning: Setting an item of incompatible dtype is deprecated and will raise an error in a future version of pandas. Value 'nan' has dtype incompatible with bool, please explicitly cast to a compatible dtype first.\n",
      "  df.loc[idx, other_session_cols] = pd.NA\n"
     ]
    },
    {
     "name": "stdout",
     "output_type": "stream",
     "text": [
      "Processed and saved: ./data/f1_data_Turkish_Grand_Prix_2021.csv\n",
      "Processed and saved: ./data/f1_data_Australian_Grand_Prix_2024.csv\n",
      "Processed and saved: ./data/f1_data_Mexican_Grand_Prix_2021.csv\n",
      "Processed and saved: ./data/f1_data_Russian_Grand_Prix_2018.csv\n",
      "Processed and saved: ./data/f1_data_Japanese_Grand_Prix_2022.csv\n",
      "Processed and saved: ./data/f1_data_Japanese_Grand_Prix_2023.csv\n",
      "Processed and saved: ./data/f1_data_Russian_Grand_Prix_2019.csv\n",
      "Processed and saved: ./data/f1_data_Azerbaijan_Grand_Prix_2021.csv\n"
     ]
    },
    {
     "name": "stderr",
     "output_type": "stream",
     "text": [
      "/var/folders/ty/jl1vm4217zx6vktvp7bd66nm0000gn/T/ipykernel_70772/4229074061.py:73: FutureWarning: Setting an item of incompatible dtype is deprecated and will raise an error in a future version of pandas. Value 'nan' has dtype incompatible with bool, please explicitly cast to a compatible dtype first.\n",
      "  df.loc[idx, other_session_cols] = pd.NA\n",
      "/var/folders/ty/jl1vm4217zx6vktvp7bd66nm0000gn/T/ipykernel_70772/4229074061.py:73: FutureWarning: Setting an item of incompatible dtype is deprecated and will raise an error in a future version of pandas. Value 'nan' has dtype incompatible with bool, please explicitly cast to a compatible dtype first.\n",
      "  df.loc[idx, other_session_cols] = pd.NA\n",
      "/var/folders/ty/jl1vm4217zx6vktvp7bd66nm0000gn/T/ipykernel_70772/4229074061.py:73: FutureWarning: Setting an item of incompatible dtype is deprecated and will raise an error in a future version of pandas. Value 'nan' has dtype incompatible with bool, please explicitly cast to a compatible dtype first.\n",
      "  df.loc[idx, other_session_cols] = pd.NA\n",
      "/var/folders/ty/jl1vm4217zx6vktvp7bd66nm0000gn/T/ipykernel_70772/4229074061.py:73: FutureWarning: Setting an item of incompatible dtype is deprecated and will raise an error in a future version of pandas. Value 'nan' has dtype incompatible with bool, please explicitly cast to a compatible dtype first.\n",
      "  df.loc[idx, other_session_cols] = pd.NA\n",
      "/var/folders/ty/jl1vm4217zx6vktvp7bd66nm0000gn/T/ipykernel_70772/4229074061.py:73: FutureWarning: Setting an item of incompatible dtype is deprecated and will raise an error in a future version of pandas. Value 'nan' has dtype incompatible with bool, please explicitly cast to a compatible dtype first.\n",
      "  df.loc[idx, other_session_cols] = pd.NA\n",
      "/var/folders/ty/jl1vm4217zx6vktvp7bd66nm0000gn/T/ipykernel_70772/4229074061.py:73: FutureWarning: Setting an item of incompatible dtype is deprecated and will raise an error in a future version of pandas. Value 'nan' has dtype incompatible with bool, please explicitly cast to a compatible dtype first.\n",
      "  df.loc[idx, other_session_cols] = pd.NA\n"
     ]
    },
    {
     "name": "stdout",
     "output_type": "stream",
     "text": [
      "Processed and saved: ./data/f1_data_Mexican_Grand_Prix_2022.csv\n",
      "Processed and saved: ./data/f1_data_Mexican_Grand_Prix_2023.csv\n",
      "Processed and saved: ./data/f1_data_Azerbaijan_Grand_Prix_2022.csv\n",
      "Processed and saved: ./data/f1_data_Qatar_Grand_Prix_2021.csv\n",
      "Processed and saved: ./data/f1_data_Japanese_Grand_Prix_2024.csv\n",
      "Processed and saved: ./data/f1_data_Japanese_Grand_Prix_2018.csv\n",
      "⚠️ Column 'TotalRaceTime' missing in ./data/f1_data_Japanese_Grand_Prix_2019.csv. Skipping file.\n"
     ]
    },
    {
     "name": "stderr",
     "output_type": "stream",
     "text": [
      "/var/folders/ty/jl1vm4217zx6vktvp7bd66nm0000gn/T/ipykernel_70772/4229074061.py:73: FutureWarning: Setting an item of incompatible dtype is deprecated and will raise an error in a future version of pandas. Value 'nan' has dtype incompatible with bool, please explicitly cast to a compatible dtype first.\n",
      "  df.loc[idx, other_session_cols] = pd.NA\n",
      "/var/folders/ty/jl1vm4217zx6vktvp7bd66nm0000gn/T/ipykernel_70772/4229074061.py:73: FutureWarning: Setting an item of incompatible dtype is deprecated and will raise an error in a future version of pandas. Value 'nan' has dtype incompatible with bool, please explicitly cast to a compatible dtype first.\n",
      "  df.loc[idx, other_session_cols] = pd.NA\n",
      "/var/folders/ty/jl1vm4217zx6vktvp7bd66nm0000gn/T/ipykernel_70772/4229074061.py:73: FutureWarning: Setting an item of incompatible dtype is deprecated and will raise an error in a future version of pandas. Value 'nan' has dtype incompatible with bool, please explicitly cast to a compatible dtype first.\n",
      "  df.loc[idx, other_session_cols] = pd.NA\n",
      "/var/folders/ty/jl1vm4217zx6vktvp7bd66nm0000gn/T/ipykernel_70772/4229074061.py:73: FutureWarning: Setting an item of incompatible dtype is deprecated and will raise an error in a future version of pandas. Value 'nan' has dtype incompatible with bool, please explicitly cast to a compatible dtype first.\n",
      "  df.loc[idx, other_session_cols] = pd.NA\n",
      "/var/folders/ty/jl1vm4217zx6vktvp7bd66nm0000gn/T/ipykernel_70772/4229074061.py:73: FutureWarning: Setting an item of incompatible dtype is deprecated and will raise an error in a future version of pandas. Value 'nan' has dtype incompatible with bool, please explicitly cast to a compatible dtype first.\n",
      "  df.loc[idx, other_session_cols] = pd.NA\n",
      "/var/folders/ty/jl1vm4217zx6vktvp7bd66nm0000gn/T/ipykernel_70772/4229074061.py:73: FutureWarning: Setting an item of incompatible dtype is deprecated and will raise an error in a future version of pandas. Value 'nan' has dtype incompatible with bool, please explicitly cast to a compatible dtype first.\n",
      "  df.loc[idx, other_session_cols] = pd.NA\n",
      "/var/folders/ty/jl1vm4217zx6vktvp7bd66nm0000gn/T/ipykernel_70772/4229074061.py:73: FutureWarning: Setting an item of incompatible dtype is deprecated and will raise an error in a future version of pandas. Value 'nan' has dtype incompatible with bool, please explicitly cast to a compatible dtype first.\n",
      "  df.loc[idx, other_session_cols] = pd.NA\n"
     ]
    },
    {
     "name": "stdout",
     "output_type": "stream",
     "text": [
      "Processed and saved: ./data/f1_data_Japanese_Grand_Prix_2025.csv\n",
      "Processed and saved: ./data/f1_data_Sakhir_Grand_Prix_2020.csv\n",
      "Processed and saved: ./data/f1_data_Azerbaijan_Grand_Prix_2019.csv\n",
      "Processed and saved: ./data/f1_data_Mexican_Grand_Prix_2018.csv\n"
     ]
    },
    {
     "name": "stderr",
     "output_type": "stream",
     "text": [
      "/var/folders/ty/jl1vm4217zx6vktvp7bd66nm0000gn/T/ipykernel_70772/4229074061.py:73: FutureWarning: Setting an item of incompatible dtype is deprecated and will raise an error in a future version of pandas. Value 'nan' has dtype incompatible with bool, please explicitly cast to a compatible dtype first.\n",
      "  df.loc[idx, other_session_cols] = pd.NA\n",
      "/var/folders/ty/jl1vm4217zx6vktvp7bd66nm0000gn/T/ipykernel_70772/4229074061.py:73: FutureWarning: Setting an item of incompatible dtype is deprecated and will raise an error in a future version of pandas. Value 'nan' has dtype incompatible with bool, please explicitly cast to a compatible dtype first.\n",
      "  df.loc[idx, other_session_cols] = pd.NA\n",
      "/var/folders/ty/jl1vm4217zx6vktvp7bd66nm0000gn/T/ipykernel_70772/4229074061.py:73: FutureWarning: Setting an item of incompatible dtype is deprecated and will raise an error in a future version of pandas. Value 'nan' has dtype incompatible with bool, please explicitly cast to a compatible dtype first.\n",
      "  df.loc[idx, other_session_cols] = pd.NA\n",
      "/var/folders/ty/jl1vm4217zx6vktvp7bd66nm0000gn/T/ipykernel_70772/4229074061.py:73: FutureWarning: Setting an item of incompatible dtype is deprecated and will raise an error in a future version of pandas. Value 'nan' has dtype incompatible with bool, please explicitly cast to a compatible dtype first.\n",
      "  df.loc[idx, other_session_cols] = pd.NA\n",
      "/var/folders/ty/jl1vm4217zx6vktvp7bd66nm0000gn/T/ipykernel_70772/4229074061.py:73: FutureWarning: Setting an item of incompatible dtype is deprecated and will raise an error in a future version of pandas. Value 'nan' has dtype incompatible with bool, please explicitly cast to a compatible dtype first.\n",
      "  df.loc[idx, other_session_cols] = pd.NA\n",
      "/var/folders/ty/jl1vm4217zx6vktvp7bd66nm0000gn/T/ipykernel_70772/4229074061.py:73: FutureWarning: Setting an item of incompatible dtype is deprecated and will raise an error in a future version of pandas. Value 'nan' has dtype incompatible with bool, please explicitly cast to a compatible dtype first.\n",
      "  df.loc[idx, other_session_cols] = pd.NA\n",
      "/var/folders/ty/jl1vm4217zx6vktvp7bd66nm0000gn/T/ipykernel_70772/4229074061.py:73: FutureWarning: Setting an item of incompatible dtype is deprecated and will raise an error in a future version of pandas. Value 'nan' has dtype incompatible with bool, please explicitly cast to a compatible dtype first.\n",
      "  df.loc[idx, other_session_cols] = pd.NA\n",
      "/var/folders/ty/jl1vm4217zx6vktvp7bd66nm0000gn/T/ipykernel_70772/4229074061.py:73: FutureWarning: Setting an item of incompatible dtype is deprecated and will raise an error in a future version of pandas. Value 'nan' has dtype incompatible with bool, please explicitly cast to a compatible dtype first.\n",
      "  df.loc[idx, other_session_cols] = pd.NA\n"
     ]
    },
    {
     "name": "stdout",
     "output_type": "stream",
     "text": [
      "Processed and saved: ./data/f1_data_Mexican_Grand_Prix_2024.csv\n",
      "Processed and saved: ./data/f1_data_Brazilian_Grand_Prix_2018.csv\n",
      "Processed and saved: ./data/f1_data_Russian_Grand_Prix_2020.csv\n",
      "Processed and saved: ./data/f1_data_Brazilian_Grand_Prix_2019.csv\n",
      "Processed and saved: ./data/f1_data_Mexican_Grand_Prix_2019.csv\n",
      "Processed and saved: ./data/f1_data_Azerbaijan_Grand_Prix_2018.csv\n",
      "Processed and saved: ./data/f1_data_Azerbaijan_Grand_Prix_2024.csv\n"
     ]
    }
   ],
   "source": [
    "# Folder path (relative to script location)\n",
    "data_folder = './data'\n",
    "\n",
    "# Get all CSV files in the folder\n",
    "csv_files = glob.glob(os.path.join(data_folder, '*.csv'))\n",
    "\n",
    "# Loop through each CSV\n",
    "for csv_file in csv_files:\n",
    "    process_race_data(csv_file, \"dataset/f1_data_combined.csv\") "
   ]
  }
 ],
 "metadata": {
  "kernelspec": {
   "display_name": "Python 3",
   "language": "python",
   "name": "python3"
  },
  "language_info": {
   "codemirror_mode": {
    "name": "ipython",
    "version": 3
   },
   "file_extension": ".py",
   "mimetype": "text/x-python",
   "name": "python",
   "nbconvert_exporter": "python",
   "pygments_lexer": "ipython3",
   "version": "3.11.11"
  }
 },
 "nbformat": 4,
 "nbformat_minor": 2
}
